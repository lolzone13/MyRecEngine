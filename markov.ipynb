{
 "cells": [
  {
   "cell_type": "code",
   "execution_count": 24,
   "metadata": {},
   "outputs": [],
   "source": [
    "import numpy as np"
   ]
  },
  {
   "cell_type": "code",
   "execution_count": 25,
   "metadata": {},
   "outputs": [
    {
     "name": "stdout",
     "output_type": "stream",
     "text": [
      "ah\n"
     ]
    }
   ],
   "source": [
    "class Markov:\n",
    "    def __init__(self, categories):\n",
    "        self.categories = categories\n",
    "        self.category_map = { categories[i]:i for i in range(len(categories)) }\n",
    "        self.num_nodes = len(categories)\n",
    "        self.graph = np.ones((self.num_nodes, self.num_nodes))\n",
    "\n",
    "    def forward_step(self, start_node, next_node, reward=1):\n",
    "        u = self.category_map[start_node]\n",
    "        v = self.category_map[next_node]\n",
    "        self.graph[u][v]+=reward\n",
    "\n",
    "    def predict_next(self, node):\n",
    "        u = self.category_map[node]\n",
    "        transition_probabilities = self.graph[u] / np.sum(self.graph[u])\n",
    "        choice = np.random.choice(self.categories, p=transition_probabilities)\n",
    "        return choice\n",
    "\n",
    "\n",
    "cat = [\"ah\", \"hello\", \"clothes\", \"shoes\"]\n",
    "mv = Markov(cat)\n",
    "\n",
    "\n",
    "for i in range(100):\n",
    "    mv.forward_step(np.random.choice(cat), np.random.choice(cat))\n",
    "\n",
    "\n",
    "print(mv.predict_next(\"hello\"))\n"
   ]
  },
  {
   "cell_type": "code",
   "execution_count": 26,
   "metadata": {},
   "outputs": [],
   "source": [
    "class UCB:\n",
    "    def __init__(self, categories):\n",
    "        self.num_arms = len(categories)\n",
    "        self.categories = categories\n",
    "        self.category_map = { categories[i]:i for i in range(len(categories)) }\n",
    "        self.num_pulls = np.zeros(self.num_arms)\n",
    "        self.num_successes = np.zeros(self.num_arms)\n",
    "        \n",
    "\n",
    "    def simulate(self, users_choices):\n",
    "        num_rounds = len(users_choices)\n",
    "        for i in range(num_rounds):\n",
    "            ucb_values = self.num_successes / self.num_pulls + np.sqrt(2 * np.log(i+1) / (self.num_pulls + 1e-9))\n",
    "            chosen_arm = np.argmax(ucb_values)\n",
    "            actual_arm = self.category_map[users_choices[i]]\n",
    "            reward = 0 # could we work on getting \n",
    "            if (actual_arm == chosen_arm):\n",
    "                reward+=1\n",
    "            \n",
    "            self.num_pulls[chosen_arm] += 1\n",
    "            self.num_successes[chosen_arm] += reward\n",
    "        \n",
    "        ucb_values = self.num_successes / self.num_pulls + np.sqrt(2 * np.log(num_rounds+1) / (self.num_pulls + 1e-6))\n",
    "        choose_next_arm = np.argmax(ucb_values)\n",
    "\n",
    "        return self.categories[choose_next_arm]\n",
    "\n",
    "\n",
    "class ThompsonSampling:\n",
    "    def __init__(self, categories):\n",
    "        self.num_arms = len(categories)\n",
    "        self.categories = categories\n",
    "        self.category_map = { categories[i]:i for i in range(len(categories)) }\n",
    "        self.num_pulls = np.zeros(self.num_arms)\n",
    "        self.num_successes = np.zeros(self.num_arms)\n",
    "    \n",
    "    def simulate(self, users_choices):\n",
    "        num_rounds = len(users_choices)\n",
    "        for i in range(num_rounds):\n",
    "            sampled_probabilities = np.random.beta(self.num_successes + 1, self.num_pulls - self.num_successes + 1)\n",
    "            chosen_arm = np.argmax(sampled_probabilities)\n",
    "\n",
    "            actual_arm = self.category_map[users_choices[i]]\n",
    "            reward = 0 # could we work on getting \n",
    "            if (actual_arm == chosen_arm):\n",
    "                reward+=1\n",
    "            \n",
    "            self.num_pulls[chosen_arm] += 1\n",
    "            self.num_successes[chosen_arm] += reward\n",
    "\n",
    "        sampled_probabilities = np.random.beta(self.num_successes + 1, self.num_pulls - self.num_successes + 1)\n",
    "        choose_next_arm = np.argmax(sampled_probabilities)\n",
    "\n",
    "        return self.categories[choose_next_arm]\n",
    "    \n",
    "    "
   ]
  },
  {
   "cell_type": "code",
   "execution_count": 27,
   "metadata": {},
   "outputs": [],
   "source": [
    "categories = [\"clothes\", \"electronics\", \"shoes\", \"socks\", \"phone\", \"diary\", \"cow\", \"goat\", \"math\", \"jeans\"]\n",
    "UCB = UCB(categories)\n",
    "users_choices = []\n",
    "\n",
    "for i in range(100):\n",
    "    x = np.random.choice(categories, p=[0.05, 0.5, 0.05, 0.05, 0.05, 0.05, 0.05, 0.05, 0.05, 0.1])\n",
    "    users_choices.append(x)\n"
   ]
  },
  {
   "cell_type": "code",
   "execution_count": 54,
   "metadata": {},
   "outputs": [
    {
     "name": "stdout",
     "output_type": "stream",
     "text": [
      "['jeans', 'cow', 'math', 'socks', 'electronics', 'jeans', 'goat', 'clothes', 'electronics', 'electronics', 'math', 'jeans', 'electronics', 'shoes', 'phone', 'phone', 'phone', 'diary', 'cow', 'electronics', 'electronics', 'math', 'diary', 'goat', 'goat', 'goat', 'electronics', 'diary', 'phone', 'electronics', 'electronics', 'electronics', 'diary', 'electronics', 'electronics', 'jeans', 'electronics', 'electronics', 'jeans', 'electronics', 'electronics', 'electronics', 'electronics', 'goat', 'electronics', 'electronics', 'goat', 'jeans', 'math', 'cow', 'electronics', 'socks', 'electronics', 'jeans', 'cow', 'goat', 'diary', 'socks', 'clothes', 'shoes', 'electronics', 'electronics', 'electronics', 'electronics', 'electronics', 'clothes', 'diary', 'jeans', 'electronics', 'electronics', 'socks', 'electronics', 'electronics', 'cow', 'jeans', 'math', 'socks', 'electronics', 'electronics', 'electronics', 'jeans', 'electronics', 'electronics', 'diary', 'clothes', 'shoes', 'clothes', 'electronics', 'cow', 'electronics', 'electronics', 'electronics', 'electronics', 'jeans', 'shoes', 'electronics', 'jeans', 'electronics', 'phone', 'electronics']\n"
     ]
    },
    {
     "data": {
      "text/plain": [
       "'electronics'"
      ]
     },
     "execution_count": 54,
     "metadata": {},
     "output_type": "execute_result"
    }
   ],
   "source": [
    "print(users_choices)\n",
    "UCB.simulate(users_choices)"
   ]
  }
 ],
 "metadata": {
  "kernelspec": {
   "display_name": "Python 3",
   "language": "python",
   "name": "python3"
  },
  "language_info": {
   "codemirror_mode": {
    "name": "ipython",
    "version": 3
   },
   "file_extension": ".py",
   "mimetype": "text/x-python",
   "name": "python",
   "nbconvert_exporter": "python",
   "pygments_lexer": "ipython3",
   "version": "3.11.0"
  },
  "orig_nbformat": 4
 },
 "nbformat": 4,
 "nbformat_minor": 2
}
